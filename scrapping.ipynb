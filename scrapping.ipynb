{
 "cells": [
  {
   "cell_type": "code",
   "execution_count": 61,
   "metadata": {},
   "outputs": [],
   "source": [
    "import os\n",
    "import sys\n",
    "import requests\n",
    "from bs4 import BeautifulSoup as bs\n",
    "import re"
   ]
  },
  {
   "cell_type": "code",
   "execution_count": 62,
   "metadata": {},
   "outputs": [],
   "source": [
    "page = requests.post(\"https://enr-apps.as.cmu.edu/open/SOC/SOCServlet/search\", data={\"SEMESTER\": \"F18\" ,\"MINI\": \"NO\" ,\"GRAD_UNDER\": \"All\"\\\n",
    ",\"PRG_LOCATION\": \"All\", \"DEPT\": \"All\" ,\"BEG_TIME\": \"All\"})\n",
    "page_text = str(page.content)\n",
    "page_text = page_text.replace(r'\\n', '').replace(r'\\r', '').replace(\"   \",\"\")\n",
    "soup = bs(page_text, \"html5lib\")"
   ]
  },
  {
   "cell_type": "code",
   "execution_count": 63,
   "metadata": {},
   "outputs": [],
   "source": [
    "import xlsxwriter\n",
    "workbook = xlsxwriter.Workbook('/Users/youzhang/documents/cmu/18spring/python/project/demo.xlsx')\n",
    "sheet = workbook.add_worksheet(\"class_sheet\")\n",
    "raw_class_sheet = workbook.add_worksheet(\"raw_class_sheet\")"
   ]
  },
  {
   "cell_type": "code",
   "execution_count": 65,
   "metadata": {},
   "outputs": [],
   "source": [
    "table_list = soup.find_all('table')\n",
    "row = 0\n",
    "for item in table_list:\n",
    "    elements = item.tbody.find_all('tr')\n",
    "    for element in elements:\n",
    "        raw_class_sheet.write(row, 0, element.text)\n",
    "        td_list = element.find_all('td')\n",
    "        if element.a is not None:\n",
    "            current_number = element.a.text\n",
    "            sheet.write(row, 0, current_number)\n",
    "            course_name = td_list[1].text.strip()\n",
    "            sheet.write(row, 1, course_name)\n",
    "            unit = td_list[2].text.strip()\n",
    "            sheet.write(row, 2, unit)\n",
    "        section = td_list[3].text.strip()\n",
    "        sheet.write(row, 3, section)\n",
    "        days = td_list[5].text.strip()\n",
    "        sheet.write(row, 4, days)\n",
    "        start_time = td_list[6].text.strip()\n",
    "        sheet.write(row, 5, start_time)\n",
    "        end_time = td_list[7].text.strip()\n",
    "        sheet.write(row, 6, end_time)\n",
    "        location = td_list[8].text.strip()\n",
    "        sheet.write(row, 7, location)\n",
    "        classroom = td_list[9].text.strip()\n",
    "        sheet.write(row, 8, classroom)\n",
    "        instructor = td_list[10].text.strip()\n",
    "        sheet.write(row, 9, instructor)\n",
    "        row+=1\n",
    "        \n",
    "        \n"
   ]
  },
  {
   "cell_type": "code",
   "execution_count": 66,
   "metadata": {},
   "outputs": [],
   "source": [
    "sheet = workbook.add_worksheet(\"teacher_sheet\")\n",
    "raw_teacher_sheet = workbook.add_worksheet(\"raw_teacher_sheet\")"
   ]
  },
  {
   "cell_type": "code",
   "execution_count": 67,
   "metadata": {},
   "outputs": [
    {
     "name": "stdout",
     "output_type": "stream",
     "text": [
      "\n",
      "\n",
      "\n",
      "\n",
      "\n",
      "\n",
      "\n",
      "\n",
      "\n",
      "\n",
      "\n",
      "\n",
      "\n",
      "\n",
      "\n",
      "\n",
      "\n",
      "\n",
      "\n",
      "\n",
      "\n",
      "\n"
     ]
    }
   ],
   "source": [
    "import json\n",
    "start = 0\n",
    "row = 0\n",
    "raw_row = 0\n",
    "while start<723:\n",
    "    try:\n",
    "        teacher_page = requests.get('http://search.mtvnservices.com/typeahead/suggest/?solrformat=true&rows=5&callback=noCB&q=*%3A*+AND+schoolid_s%3A181&defType=edismax&qf=teacherfirstname_t%5E2000+teacherlastname_t%5E2000+teacherfullname_t%5E2000+autosuggest&bf=pow(total_number_of_ratings_i%2C2.1)&sort=total_number_of_ratings_i+desc&siteName=rmp&&fl=pk_id+teacherfirstname_t+teacherlastname_t+total_number_of_ratings_i+averageratingscore_rf+schoolid_s&fq='+'&start='+str(start))\n",
    "        teacher_content = str(teacher_page.content)\n",
    "        teacher_content = teacher_content.replace(r\"\\n\",'')\n",
    "        teacher_content = teacher_content[teacher_content.find('{'):teacher_content.rfind('}')+1]\n",
    "        raw_teacher_sheet.write(raw_row, 0, teacher_content)\n",
    "        raw_row+=1\n",
    "        data = json.loads(teacher_content)\n",
    "        teacher_list = data['response']['docs']\n",
    "        for element in teacher_list:\n",
    "            last_name = element['teacherlastname_t']\n",
    "            score = element['averageratingscore_rf']\n",
    "            first_name = element['teacherfirstname_t']\n",
    "            sheet.write(row, 0, ','.join([last_name, first_name]))\n",
    "            sheet.write(row, 1, score)\n",
    "            row+=1\n",
    "        if len(teacher_list)<5:\n",
    "            break\n",
    "    except:\n",
    "        print(\"\")\n",
    "    start+=5\n",
    "workbook.close()"
   ]
  },
  {
   "cell_type": "code",
   "execution_count": 68,
   "metadata": {},
   "outputs": [],
   "source": [
    "workbook.close()"
   ]
  },
  {
   "cell_type": "code",
   "execution_count": null,
   "metadata": {},
   "outputs": [],
   "source": []
  }
 ],
 "metadata": {
  "kernelspec": {
   "display_name": "Python 3",
   "language": "python",
   "name": "python3"
  },
  "language_info": {
   "codemirror_mode": {
    "name": "ipython",
    "version": 3
   },
   "file_extension": ".py",
   "mimetype": "text/x-python",
   "name": "python",
   "nbconvert_exporter": "python",
   "pygments_lexer": "ipython3",
   "version": "3.6.5"
  }
 },
 "nbformat": 4,
 "nbformat_minor": 2
}
